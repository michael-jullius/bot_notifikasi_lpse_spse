{
 "cells": [
  {
   "cell_type": "code",
   "execution_count": 19,
   "metadata": {},
   "outputs": [
    {
     "name": "stdout",
     "output_type": "stream",
     "text": [
      "1\n",
      "ini yang beda\n",
      "1\n",
      "1\n",
      "1\n"
     ]
    }
   ],
   "source": [
    "a = [1,2,3,4]\n",
    "b = [1,2,3]\n",
    "\n",
    "for d in a:\n",
    "    for c in b:\n",
    "        print(c)\n",
    "        if c != d:\n",
    "            c =c\n",
    "        else:\n",
    "            print('ini yang beda')\n",
    "        break\n",
    "        \n",
    "    "
   ]
  },
  {
   "cell_type": "code",
   "execution_count": 26,
   "metadata": {},
   "outputs": [
    {
     "name": "stdout",
     "output_type": "stream",
     "text": [
      "1\n",
      "skip\n",
      "skip\n",
      "skip\n",
      "skip\n",
      "2\n",
      "skip\n",
      "skip\n",
      "skip\n",
      "skip\n",
      "3\n",
      "skip\n"
     ]
    }
   ],
   "source": [
    "for c in b:\n",
    "    for d in a:\n",
    "        if c == d:\n",
    "            print(c)\n",
    "        else:\n",
    "            print('skip')"
   ]
  },
  {
   "cell_type": "code",
   "execution_count": 11,
   "metadata": {},
   "outputs": [
    {
     "name": "stdout",
     "output_type": "stream",
     "text": [
      "null\n"
     ]
    }
   ],
   "source": [
    "import requests\n",
    "import mysql.connector\n",
    "from datetime import date\n",
    "\n",
    "db = mysql.connector.connect(\n",
    "        host='localhost',\n",
    "        user='root',\n",
    "        password='',\n",
    "        database='report_proyek'\n",
    ")\n",
    "cursor = db.cursor()\n",
    "cursor.execute('SELECT DATE(created_at) as date FROM `tb_galery_proyek` WHERE DATE(created_at) = \"{}\"'.format(date.today()))\n",
    "data = cursor.fetchall()\n",
    "def send(id,bot_message):\n",
    "    \n",
    "   bot_token = '5349581892:AAHAvB8ruYWlRaaHrbvgmJ4MW2g0D6agE50'\n",
    "   bot_chatID = id\n",
    "   send_text = 'https://api.telegram.org/bot' + bot_token + '/sendMessage?chat_id=' + bot_chatID + '&parse_mode=Markdown&text=' + bot_message\n",
    "\n",
    "   response = requests.get(send_text)\n",
    "\n",
    "   return response.json()\n",
    " \n",
    "user = ['1270328028', '5095178323', '1952593695', '1329809429']\n",
    "menu = \"belum ada aktifitas upload foto di pagi hari\"\n",
    "\n",
    "if data == []:\n",
    "    for us in user:\n",
    "        send(''+us, menu)\n",
    "\n"
   ]
  },
  {
   "cell_type": "code",
   "execution_count": 4,
   "metadata": {},
   "outputs": [
    {
     "name": "stdout",
     "output_type": "stream",
     "text": [
      "1270328028\n",
      "5095178323\n",
      "1952593695\n"
     ]
    }
   ],
   "source": [
    "import mysql.connector\n",
    "db = mysql.connector.connect(\n",
    "        host='103.160.62.181',\n",
    "        user='roiputra',\n",
    "        password='Oj0dum3h**',\n",
    "        database='bot'\n",
    ")\n",
    "cursor = db.cursor()\n",
    "\n",
    "sql = \"SELECT id_user FROM `user`\"\n",
    "cursor.execute(sql)\n",
    "user = cursor.fetchall()\n",
    "\n",
    "for us in user:\n",
    "        if us[0] == 1249554282:\n",
    "                continue\n",
    "        else:\n",
    "                print(us[0])"
   ]
  },
  {
   "cell_type": "code",
   "execution_count": 8,
   "metadata": {},
   "outputs": [
    {
     "name": "stdout",
     "output_type": "stream",
     "text": [
      "https://lpse.lampungtengahkab.go.id/eproc4\n",
      "http://lpse.metrokota.go.id/eproc4\n"
     ]
    }
   ],
   "source": [
    "import mysql.connector\n",
    "db = mysql.connector.connect(\n",
    "        host='103.160.62.181',\n",
    "        user='roiputra',\n",
    "        password='Oj0dum3h**',\n",
    "        database='bot'\n",
    ")\n",
    "cursor = db.cursor()\n",
    "\n",
    "sql = \"SELECT `url` FROM `url`\"\n",
    "cursor.execute(sql)\n",
    "url = cursor.fetchall()\n",
    "\n",
    "for u in url:\n",
    "    if u[0] == 'https://lpse.lampungtengahkab.go.id/eproc4' or u[0] == 'http://lpse.metrokota.go.id/eproc4':\n",
    "        print(u[0])\n",
    "    else:\n",
    "        continue"
   ]
  },
  {
   "cell_type": "code",
   "execution_count": 9,
   "metadata": {},
   "outputs": [
    {
     "name": "stdout",
     "output_type": "stream",
     "text": [
      "ok\n"
     ]
    }
   ],
   "source": [
    "try :\n",
    "    a\n",
    "except:\n",
    "    print('ok')"
   ]
  },
  {
   "cell_type": "code",
   "execution_count": 2,
   "metadata": {},
   "outputs": [
    {
     "name": "stdout",
     "output_type": "stream",
     "text": [
      "sukses\n"
     ]
    }
   ],
   "source": [
    "import mysql.connector\n",
    "db = mysql.connector.connect(\n",
    "        host='103.160.62.181',\n",
    "        user='roiputra',\n",
    "        password='Oj0dum3h**',\n",
    "        database='bot'\n",
    ")\n",
    "cursor = db.cursor()\n",
    "\n",
    "sql = \"SELECT `url` FROM `url`\"\n",
    "cursor.execute(sql)\n",
    "url = cursor.fetchall()\n",
    "s = ''\n",
    "for u in url:\n",
    "    s += '{} \\n'.format(u[0])\n",
    "    \n",
    "print(s)"
   ]
  },
  {
   "cell_type": "code",
   "execution_count": 17,
   "metadata": {},
   "outputs": [
    {
     "name": "stdout",
     "output_type": "stream",
     "text": [
      "ab\n"
     ]
    }
   ],
   "source": [
    "a = 'a'\n",
    "b = 'b'\n",
    "print(a+b)"
   ]
  },
  {
   "cell_type": "code",
   "execution_count": 9,
   "metadata": {},
   "outputs": [
    {
     "data": {
      "text/plain": [
       "{'ok': True,\n",
       " 'result': {'message_id': 266,\n",
       "  'from': {'id': 5459155550,\n",
       "   'is_bot': True,\n",
       "   'first_name': 'Bot_LPSE_Nasional',\n",
       "   'username': 'LPSE_Nasional_bot'},\n",
       "  'chat': {'id': 1490349539,\n",
       "   'first_name': 'Muhammad',\n",
       "   'last_name': 'Alief',\n",
       "   'username': 'muhaliep',\n",
       "   'type': 'private'},\n",
       "  'date': 1661490564,\n",
       "  'text': 'halo selamat siang \\nanda terdeteksi bot ingin mendaftar dengan bot\\nsaat ini no anda belum teregistasi di no kami \\nsilahkan hubungi no whatsapp https://api.whatsapp.com/send/?phone=+620895600904600',\n",
       "  'entities': [{'offset': 143, 'length': 53, 'type': 'url'}]}}"
      ]
     },
     "execution_count": 9,
     "metadata": {},
     "output_type": "execute_result"
    }
   ],
   "source": [
    "import requests\n",
    "menu = \"\"\"\n",
    "halo selamat datang {}\n",
    "        \n",
    "bila ada yang ingin ditanya\n",
    "silahkan hubungi no di bawah ini \n",
    "0895600904600\n",
    "        \n",
    "bila bot tidak membalas tunggu 5 menit \n",
    "karena bot akan tertidur,\n",
    "jika tidak di gunakan dalam waktu yang lama.\n",
    "        \"\"\"\n",
    "        \n",
    "def send(id,bot_message):\n",
    "    \n",
    "   bot_token = '5459155550:AAFuQlEnbkY8C9_sGGtEabakDEqg_EtKaeM'\n",
    "   bot_chatID = id\n",
    "   send_text = 'https://api.telegram.org/bot' + bot_token + '/sendMessage?chat_id=' + bot_chatID + '&parse_mode=Markdown&text=' + bot_message\n",
    "\n",
    "   response = requests.get(send_text)\n",
    "\n",
    "   return response.json()\n",
    "\n",
    "send('', 'halo selamat siang \\nanda terdeteksi bot ingin mendaftar dengan bot\\nsaat ini no anda belum teregistasi di no kami \\nsilahkan hubungi no whatsapp https://api.whatsapp.com/send/?phone=%2B620895600904600&text&type=phone_number&app_absent=0 untuk meminta bantuan \\ndengan mengetik saya ingin mendaftar bot')"
   ]
  },
  {
   "cell_type": "code",
   "execution_count": 5,
   "metadata": {},
   "outputs": [
    {
     "data": {
      "text/plain": [
       "{'ok': True,\n",
       " 'result': {'message_id': 2892,\n",
       "  'from': {'id': 5349581892,\n",
       "   'is_bot': True,\n",
       "   'first_name': 'bot-notif',\n",
       "   'username': 'fisuhgsio2348913rj_bot'},\n",
       "  'chat': {'id': 5640480730,\n",
       "   'first_name': 'Deny',\n",
       "   'last_name': 'Sanjaya',\n",
       "   'type': 'private'},\n",
       "  'date': 1662528859,\n",
       "  'text': 'selamat Deny Sanjaya berhasil mendaftar, \\nuser DenySanjaya sudah di approve, \\nsilahkan tunggu update dari bot terimakasih.'}}"
      ]
     },
     "execution_count": 5,
     "metadata": {},
     "output_type": "execute_result"
    }
   ],
   "source": [
    "import requests\n",
    "menu = \"\"\"\n",
    "halo selamat datang {}\n",
    "        \n",
    "bila ada yang ingin ditanya\n",
    "silahkan hubungi no di bawah ini \n",
    "0895600904600\n",
    "        \n",
    "bila bot tidak membalas tunggu 5 menit \n",
    "karena bot akan tertidur,\n",
    "jika tidak di gunakan dalam waktu yang lama.\n",
    "        \"\"\"\n",
    "        \n",
    "def send(id,bot_message):\n",
    "    \n",
    "   bot_token = '5349581892:AAHAvB8ruYWlRaaHrbvgmJ4MW2g0D6agE50'\n",
    "   bot_chatID = id\n",
    "   send_text = 'https://api.telegram.org/bot' + bot_token + '/sendMessage?chat_id=' + bot_chatID + '&parse_mode=Markdown&text=' + bot_message\n",
    "\n",
    "   response = requests.get(send_text)\n",
    "\n",
    "   return response.json()\n",
    "\n",
    "send('5640480730', 'selamat Deny Sanjaya berhasil mendaftar, \\nuser DenySanjaya sudah di approve, \\nsilahkan tunggu update dari bot terimakasih.')"
   ]
  },
  {
   "cell_type": "code",
   "execution_count": 8,
   "metadata": {},
   "outputs": [],
   "source": [
    "\n",
    "import smtplib\n",
    "\n",
    "gmail_user = 'admin@perumahanmetrotownhouse.com'\n",
    "gmail_password = 'Oj0dum3h**'\n",
    "\n",
    "sent_from = gmail_user\n",
    "to = ['miju090704@gmail.com']\n",
    "subject = 'Bot Notif'\n",
    "body = 'oke'\n",
    "\n",
    "email_text = \"\"\"\\\n",
    "From: %s\n",
    "To: %s\n",
    "Subject: %s\n",
    "\n",
    "%s\n",
    "\"\"\" % (sent_from, \", \".join(to), subject, body)\n",
    "\n",
    "\n",
    "smtp_server = smtplib.SMTP_SSL('mail.perumahanmetrotownhouse.com', 465)\n",
    "smtp_server.ehlo()\n",
    "smtp_server.login(gmail_user, gmail_password)\n",
    "\n",
    "for i in range(5):\n",
    "    smtp_server.sendmail(sent_from, to, email_text)\n"
   ]
  },
  {
   "cell_type": "code",
   "execution_count": 9,
   "metadata": {},
   "outputs": [
    {
     "ename": "SMTPServerDisconnected",
     "evalue": "Connection unexpectedly closed",
     "output_type": "error",
     "traceback": [
      "\u001b[1;31m---------------------------------------------------------------------------\u001b[0m",
      "\u001b[1;31mSMTPServerDisconnected\u001b[0m                    Traceback (most recent call last)",
      "\u001b[1;32mc:\\Users\\roiputra\\Documents\\vps-bot-lpse-pu\\Untitled-1.ipynb Cell 11\u001b[0m in \u001b[0;36m<cell line: 15>\u001b[1;34m()\u001b[0m\n\u001b[0;32m     <a href='vscode-notebook-cell:/c%3A/Users/roiputra/Documents/vps-bot-lpse-pu/Untitled-1.ipynb#ch0000010?line=11'>12</a>\u001b[0m msg[\u001b[39m'\u001b[39m\u001b[39mFrom\u001b[39m\u001b[39m'\u001b[39m] \u001b[39m=\u001b[39m \u001b[39m'\u001b[39m\u001b[39madmin@perumahanmetrotownhouse.com\u001b[39m\u001b[39m'\u001b[39m\n\u001b[0;32m     <a href='vscode-notebook-cell:/c%3A/Users/roiputra/Documents/vps-bot-lpse-pu/Untitled-1.ipynb#ch0000010?line=12'>13</a>\u001b[0m msg[\u001b[39m'\u001b[39m\u001b[39mTo\u001b[39m\u001b[39m'\u001b[39m] \u001b[39m=\u001b[39m \u001b[39m'\u001b[39m\u001b[39mmiju090704@gmail.com\u001b[39m\u001b[39m'\u001b[39m\n\u001b[1;32m---> <a href='vscode-notebook-cell:/c%3A/Users/roiputra/Documents/vps-bot-lpse-pu/Untitled-1.ipynb#ch0000010?line=14'>15</a>\u001b[0m \u001b[39mwith\u001b[39;00m smtplib\u001b[39m.\u001b[39;49mSMTP(\u001b[39m'\u001b[39;49m\u001b[39mmail.perumahanmetrotownhouse.com\u001b[39;49m\u001b[39m'\u001b[39;49m, port) \u001b[39mas\u001b[39;00m server:\n\u001b[0;32m     <a href='vscode-notebook-cell:/c%3A/Users/roiputra/Documents/vps-bot-lpse-pu/Untitled-1.ipynb#ch0000010?line=16'>17</a>\u001b[0m     server\u001b[39m.\u001b[39mlogin(\u001b[39m'\u001b[39m\u001b[39madmin@perumahanmetrotownhouse.com\u001b[39m\u001b[39m'\u001b[39m, \u001b[39m'\u001b[39m\u001b[39mOj0dum3h**\u001b[39m\u001b[39m'\u001b[39m)\n\u001b[0;32m     <a href='vscode-notebook-cell:/c%3A/Users/roiputra/Documents/vps-bot-lpse-pu/Untitled-1.ipynb#ch0000010?line=17'>18</a>\u001b[0m     server\u001b[39m.\u001b[39msendmail(sender, receivers, msg\u001b[39m.\u001b[39mas_string())\n",
      "File \u001b[1;32mc:\\Python310\\lib\\smtplib.py:255\u001b[0m, in \u001b[0;36mSMTP.__init__\u001b[1;34m(self, host, port, local_hostname, timeout, source_address)\u001b[0m\n\u001b[0;32m    252\u001b[0m \u001b[39mself\u001b[39m\u001b[39m.\u001b[39m_auth_challenge_count \u001b[39m=\u001b[39m \u001b[39m0\u001b[39m\n\u001b[0;32m    254\u001b[0m \u001b[39mif\u001b[39;00m host:\n\u001b[1;32m--> 255\u001b[0m     (code, msg) \u001b[39m=\u001b[39m \u001b[39mself\u001b[39;49m\u001b[39m.\u001b[39;49mconnect(host, port)\n\u001b[0;32m    256\u001b[0m     \u001b[39mif\u001b[39;00m code \u001b[39m!=\u001b[39m \u001b[39m220\u001b[39m:\n\u001b[0;32m    257\u001b[0m         \u001b[39mself\u001b[39m\u001b[39m.\u001b[39mclose()\n",
      "File \u001b[1;32mc:\\Python310\\lib\\smtplib.py:343\u001b[0m, in \u001b[0;36mSMTP.connect\u001b[1;34m(self, host, port, source_address)\u001b[0m\n\u001b[0;32m    341\u001b[0m \u001b[39mself\u001b[39m\u001b[39m.\u001b[39msock \u001b[39m=\u001b[39m \u001b[39mself\u001b[39m\u001b[39m.\u001b[39m_get_socket(host, port, \u001b[39mself\u001b[39m\u001b[39m.\u001b[39mtimeout)\n\u001b[0;32m    342\u001b[0m \u001b[39mself\u001b[39m\u001b[39m.\u001b[39mfile \u001b[39m=\u001b[39m \u001b[39mNone\u001b[39;00m\n\u001b[1;32m--> 343\u001b[0m (code, msg) \u001b[39m=\u001b[39m \u001b[39mself\u001b[39;49m\u001b[39m.\u001b[39;49mgetreply()\n\u001b[0;32m    344\u001b[0m \u001b[39mif\u001b[39;00m \u001b[39mself\u001b[39m\u001b[39m.\u001b[39mdebuglevel \u001b[39m>\u001b[39m \u001b[39m0\u001b[39m:\n\u001b[0;32m    345\u001b[0m     \u001b[39mself\u001b[39m\u001b[39m.\u001b[39m_print_debug(\u001b[39m'\u001b[39m\u001b[39mconnect:\u001b[39m\u001b[39m'\u001b[39m, \u001b[39mrepr\u001b[39m(msg))\n",
      "File \u001b[1;32mc:\\Python310\\lib\\smtplib.py:405\u001b[0m, in \u001b[0;36mSMTP.getreply\u001b[1;34m(self)\u001b[0m\n\u001b[0;32m    403\u001b[0m \u001b[39mif\u001b[39;00m \u001b[39mnot\u001b[39;00m line:\n\u001b[0;32m    404\u001b[0m     \u001b[39mself\u001b[39m\u001b[39m.\u001b[39mclose()\n\u001b[1;32m--> 405\u001b[0m     \u001b[39mraise\u001b[39;00m SMTPServerDisconnected(\u001b[39m\"\u001b[39m\u001b[39mConnection unexpectedly closed\u001b[39m\u001b[39m\"\u001b[39m)\n\u001b[0;32m    406\u001b[0m \u001b[39mif\u001b[39;00m \u001b[39mself\u001b[39m\u001b[39m.\u001b[39mdebuglevel \u001b[39m>\u001b[39m \u001b[39m0\u001b[39m:\n\u001b[0;32m    407\u001b[0m     \u001b[39mself\u001b[39m\u001b[39m.\u001b[39m_print_debug(\u001b[39m'\u001b[39m\u001b[39mreply:\u001b[39m\u001b[39m'\u001b[39m, \u001b[39mrepr\u001b[39m(line))\n",
      "\u001b[1;31mSMTPServerDisconnected\u001b[0m: Connection unexpectedly closed"
     ]
    }
   ],
   "source": [
    "import smtplib\n",
    "from email.mime.text import MIMEText\n",
    "\n",
    "sender = 'admin@perumahanmetrotownhouse.com'\n",
    "receivers = ['miju090704@gmail.com']\n",
    "\n",
    "\n",
    "port = 465\n",
    "msg = MIMEText('This is test mail')\n",
    "\n",
    "msg['Subject'] = 'Test mail'\n",
    "msg['From'] = 'admin@perumahanmetrotownhouse.com'\n",
    "msg['To'] = 'miju090704@gmail.com'\n",
    "\n",
    "with smtplib.SMTP('mail.perumahanmetrotownhouse.com', port) as server:\n",
    "    \n",
    "    server.login('admin@perumahanmetrotownhouse.com', 'Oj0dum3h**')\n",
    "    server.sendmail(sender, receivers, msg.as_string())\n",
    "    print(\"Successfully sent email\")"
   ]
  },
  {
   "cell_type": "code",
   "execution_count": 1,
   "metadata": {},
   "outputs": [
    {
     "name": "stdout",
     "output_type": "stream",
     "text": [
      "[1, 2]\n"
     ]
    }
   ],
   "source": [
    "for i in range(10):\n",
    "    a = 1\n",
    "    b = 2\n",
    "    c = [a,b]     \n",
    "    \n",
    "print(c)"
   ]
  },
  {
   "cell_type": "code",
   "execution_count": 10,
   "metadata": {},
   "outputs": [],
   "source": [
    "from email.mime.multipart import MIMEMultipart\n",
    "from email.mime.text import MIMEText\n",
    "import smtplib\n",
    "\n",
    "def send(recipients, subject, message):\n",
    "    with smtplib.SMTP(host=\"mail.perumahanmetrotownhouse.com\", port=465) as smtp:\n",
    "        smtp.ehlo()\n",
    "        smtp.starttls()\n",
    "        smtp.login('admin@perumahanmetrotownhouse.com', 'Oj0dum3h**')\n",
    "        for name, email in recipients.items():\n",
    "            edited_subject = subject.replace(\"<>\", name)\n",
    "            edited_message = message.replace(\"<>\", name)\n",
    "\n",
    "            mail = MIMEMultipart()\n",
    "            mail['from'] = 'bot notif'\n",
    "            mail['to'] = email\n",
    "            mail['subject'] = edited_subject\n",
    "            mail.attach(MIMEText(edited_message, \"plain\"))\n",
    "            smtp.send_message(mail)\n",
    "            \n",
    "send(['miju090704@gmail.com'], 'bot_notif', 'oke')"
   ]
  }
 ],
 "metadata": {
  "kernelspec": {
   "display_name": "Python 3.10.5 64-bit",
   "language": "python",
   "name": "python3"
  },
  "language_info": {
   "codemirror_mode": {
    "name": "ipython",
    "version": 3
   },
   "file_extension": ".py",
   "mimetype": "text/x-python",
   "name": "python",
   "nbconvert_exporter": "python",
   "pygments_lexer": "ipython3",
   "version": "3.10.6"
  },
  "orig_nbformat": 4,
  "vscode": {
   "interpreter": {
    "hash": "369f2c481f4da34e4445cda3fffd2e751bd1c4d706f27375911949ba6bb62e1c"
   }
  }
 },
 "nbformat": 4,
 "nbformat_minor": 2
}
